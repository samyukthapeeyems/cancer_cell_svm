{
 "cells": [
  {
   "attachments": {},
   "cell_type": "markdown",
   "id": "70b492bd-b66b-48a4-b7f0-e5979cc768ff",
   "metadata": {},
   "source": [
    "### 1) What is an SVM?\n",
    "##### Support Vector Machine (SVM) is a powerful machine learning algorithm used for linear or nonlinear classification and regression. Here we used SVM to build and train a model that classifies human cells as cancerous ie, benign (mild cancer) or malignant (highly serious state). \n",
    "##### The main objective of the SVM algorithm is to find the optimal hyperplane in an N-dimensional space that can separate the data points in different classes in the feature space."
   ]
  },
  {
   "attachments": {},
   "cell_type": "markdown",
   "id": "4c1d4b70-46bd-4504-b0e3-e03c322c5e30",
   "metadata": {},
   "source": [
    "### 2) Necessary imports"
   ]
  },
  {
   "cell_type": "code",
   "execution_count": 2,
   "id": "92cd4a64-85eb-4af3-964a-6390b16baf62",
   "metadata": {},
   "outputs": [],
   "source": [
    "import pandas as pd\n",
    "import numpy as np\n",
    "import matplotlib.pyplot as plt"
   ]
  },
  {
   "attachments": {},
   "cell_type": "markdown",
   "id": "dc3fe1cc-9ba2-4159-933e-da9c03e042e8",
   "metadata": {},
   "source": [
    "### 3) Cancer data\n",
    "\n",
    "##### public source: \n",
    "##### https://www.youtube.com/redirect?event=video_description&redir_token=QUFFLUhqbnMyT3ItQllkTGNFVFQtOU9mQ2xnSDVuWDVfZ3xBQ3Jtc0ttdHJCV2thMjl6Vkk3WDVHQXQ0N1dETWV5ZzR1cG9VZW81M3VqX3hkaXRqV1ZjRy1CZmprc21QMnV1UDRUdGVmMDNCMjNyS1YyelFmXzRuN0NqQUZkZlBrTXNXM28yS3FhRmducWI4MnFpODFrRXNVVQ&q=https%3A%2F%2Fs3-api.us-geo.objectstorage.softlayer.net%2Fcf-courses-data%2FCognitiveClass%2FML0101ENv3%2Flabs%2Fcell_samples.csv&v=7sz4WpkUIIs\n",
    "\n",
    "\n",
    "#### Field name -------------------------------------> Description\n",
    "##### ID ------------------------------------------------------------->  Identifier                        \n",
    "##### Clump ------------------------------------------------------>  Clump thickness\n",
    "##### UnifSize --------------------------------------------------->  Uniformity of cell size\n",
    "##### UnifShape -------------------------------------------------->  Uniformity of cell shape\n",
    "##### MargAdh ---------------------------------------------------->  Marginal adhesion\n",
    "##### SingEpiSize ------------------------------------------------>  Single epithelial cell size\n",
    "##### BareNuc ---------------------------------------------------->  Bare nuclei\n",
    "##### BlandChrom ------------------------------------------------->  Bland chormatin\n",
    "##### NormNucl --------------------------------------------------->  Normal nucleoli\n",
    "##### Mit -------------------------------------------------------->  Mitoses\n",
    "##### Class ------------------------------------------------------>  Benign or malignant"
   ]
  },
  {
   "attachments": {},
   "cell_type": "markdown",
   "id": "ff3d4331-30d5-4cbe-90ed-732fca5d7505",
   "metadata": {},
   "source": [
    "### 4) Load data from the CSV file\n",
    "##### Benign cells are given a value 2 and malignant cells are given a value 4"
   ]
  },
  {
   "cell_type": "code",
   "execution_count": 3,
   "id": "82e0dfdb-85b8-4033-aece-698969e2e282",
   "metadata": {},
   "outputs": [
    {
     "data": {
      "text/plain": [
       "2    458\n",
       "4    241\n",
       "Name: Class, dtype: int64"
      ]
     },
     "execution_count": 3,
     "metadata": {},
     "output_type": "execute_result"
    }
   ],
   "source": [
    "cell_df = pd.read_csv('cell_samples.csv')\n",
    "cell_df.tail()\n",
    "cell_df.shape\n",
    "cell_df.size\n",
    "cell_df.count()\n",
    "cell_df['Class'].value_counts()"
   ]
  },
  {
   "attachments": {},
   "cell_type": "markdown",
   "id": "0d729f2a-0180-412a-b66b-a8464cd0feff",
   "metadata": {},
   "source": [
    "### 5) Distribution of the classes"
   ]
  },
  {
   "cell_type": "code",
   "execution_count": 4,
   "id": "8b121fbe-f231-4e34-a384-e82b0a24f42d",
   "metadata": {},
   "outputs": [
    {
     "data": {
      "text/plain": [
       "<Axes: xlabel='Clump', ylabel='UnifSize'>"
      ]
     },
     "execution_count": 4,
     "metadata": {},
     "output_type": "execute_result"
    },
    {
     "data": {
      "image/png": "[encoded data removed]",
      "text/plain": [
       "<Figure size 640x480 with 1 Axes>"
      ]
     },
     "metadata": {},
     "output_type": "display_data"
    }
   ],
   "source": [
    "benign_df = cell_df[cell_df['Class']==2][0:200]\n",
    "malignant_df = cell_df[cell_df['Class']==4][0:200]\n",
    "\n",
    "axes = benign_df.plot(kind='scatter', x='Clump', y='UnifSize', color='blue', label='Benign')\n",
    "malignant_df.plot(kind='scatter', x='Clump', y='UnifSize', color='red', label='Malignant', ax= axes)\n",
    "\n",
    "#help(benign_df.plot)"
   ]
  },
  {
   "attachments": {},
   "cell_type": "markdown",
   "id": "74686011-e33e-4695-adb7-3ea676c3030c",
   "metadata": {},
   "source": [
    "### 6) Identifying the unwanted rows"
   ]
  },
  {
   "cell_type": "code",
   "execution_count": 5,
   "id": "3299a2e0-3089-4512-b071-9267c45efbbb",
   "metadata": {},
   "outputs": [
    {
     "data": {
      "text/plain": [
       "ID             int64\n",
       "Clump          int64\n",
       "UnifSize       int64\n",
       "UnifShape      int64\n",
       "MargAdh        int64\n",
       "SingEpiSize    int64\n",
       "BareNuc        int64\n",
       "BlandChrom     int64\n",
       "NormNucl       int64\n",
       "Mit            int64\n",
       "Class          int64\n",
       "dtype: object"
      ]
     },
     "execution_count": 5,
     "metadata": {},
     "output_type": "execute_result"
    }
   ],
   "source": [
    "cell_df.dtypes\n",
    "\n",
    "cell_df = cell_df[pd.to_numeric(cell_df['BareNuc'], errors='coerce').notnull()]\n",
    "cell_df['BareNuc'] = cell_df['BareNuc'].astype('int')\n",
    "cell_df.dtypes\n"
   ]
  },
  {
   "attachments": {},
   "cell_type": "markdown",
   "id": "d0d12994-9a4e-4838-8a1c-d9ba9bd1ebd2",
   "metadata": {},
   "source": [
    "### 7) Remove unwanted columns"
   ]
  },
  {
   "cell_type": "code",
   "execution_count": 8,
   "id": "0734e015-a494-498a-9a1b-7944d5c01c91",
   "metadata": {},
   "outputs": [
    {
     "data": {
      "text/plain": [
       "array([2, 2, 2, 2, 2])"
      ]
     },
     "execution_count": 8,
     "metadata": {},
     "output_type": "execute_result"
    }
   ],
   "source": [
    "cell_df.columns\n",
    "feature_df = cell_df[['Clump', 'UnifSize', 'UnifShape', 'MargAdh', 'SingEpiSize',\n",
    "       'BareNuc', 'BlandChrom', 'NormNucl', 'Mit']]\n",
    "\n",
    "X = np.asarray(feature_df)\n",
    "\n",
    "y = np.asarray(cell_df['Class'])\n",
    "X[0:5]\n",
    "Y[0:5]"
   ]
  },
  {
   "attachments": {},
   "cell_type": "markdown",
   "id": "5a093514-51d5-45c7-9a9a-57ec368c93ad",
   "metadata": {},
   "source": [
    "### 8) Divide the data as Train/Test dataset"
   ]
  },
  {
   "cell_type": "code",
   "execution_count": 12,
   "id": "093de916-d0a9-416f-846b-265fa8091d1e",
   "metadata": {},
   "outputs": [
    {
     "data": {
      "text/plain": [
       "(137,)"
      ]
     },
     "execution_count": 12,
     "metadata": {},
     "output_type": "execute_result"
    }
   ],
   "source": [
    "'''\n",
    "cell_df (100 rows) => Train (80 rows) / Test (20 rows)\n",
    "Train(X, y)    ## X is a 2D array, y is 1D array\n",
    "Test(X,y)\n",
    "'''\n",
    "\n",
    "from sklearn.model_selection import train_test_split\n",
    "\n",
    "X_train, X_test, y_train, y_test = train_test_split(X, y, test_size=0.2, random_state=4)\n",
    "\n",
    "# (546, 9)\n",
    "X_train.shape\n",
    "\n",
    "# (546, 1)\n",
    "y_train.shape\n",
    "\n",
    "#(137, 9)\n",
    "X_test.shape\n",
    "\n",
    "#(137, 1)\n",
    "y_test.shape"
   ]
  },
  {
   "attachments": {},
   "cell_type": "markdown",
   "id": "3dd33247-ebc5-47b0-b292-07a0d2eb796f",
   "metadata": {},
   "source": [
    "### 9) Modelling SVM with Scikit-learn"
   ]
  },
  {
   "cell_type": "code",
   "execution_count": 19,
   "id": "1b2d8de9-ac6e-4cc6-a859-66dfcba75f47",
   "metadata": {},
   "outputs": [],
   "source": [
    "from sklearn import svm\n",
    "\n",
    "classifier = svm.SVC(kernel='linear', gamma='auto', C=2)\n",
    "classifier.fit(X_train, y_train)\n",
    "y_predict = classifier.predict(X_test)"
   ]
  },
  {
   "attachments": {},
   "cell_type": "markdown",
   "id": "7a5d0821-a4ca-4218-b259-3164160c7621",
   "metadata": {},
   "source": [
    "### 10) Evaluation (Results)"
   ]
  },
  {
   "cell_type": "code",
   "execution_count": 20,
   "id": "c08aa0a4-1bae-47d8-8d68-3977d5ba25bd",
   "metadata": {},
   "outputs": [
    {
     "name": "stdout",
     "output_type": "stream",
     "text": [
      "              precision    recall  f1-score   support\n",
      "\n",
      "           2       1.00      0.94      0.97        90\n",
      "           4       0.90      1.00      0.95        47\n",
      "\n",
      "    accuracy                           0.96       137\n",
      "   macro avg       0.95      0.97      0.96       137\n",
      "weighted avg       0.97      0.96      0.96       137\n",
      "\n"
     ]
    }
   ],
   "source": [
    "from sklearn.metrics import classification_report\n",
    "\n",
    "print(classification_report(y_test, y_predict))"
   ]
  }
 ],
 "metadata": {
  "kernelspec": {
   "display_name": "Python 3 (ipykernel)",
   "language": "python",
   "name": "python3"
  },
  "language_info": {
   "codemirror_mode": {
    "name": "ipython",
    "version": 3
   },
   "file_extension": ".py",
   "mimetype": "text/x-python",
   "name": "python",
   "nbconvert_exporter": "python",
   "pygments_lexer": "ipython3",
   "version": "3.11.3"
  }
 },
 "nbformat": 4,
 "nbformat_minor": 5
}
